{
 "cells": [
  {
   "cell_type": "code",
   "execution_count": 2,
   "metadata": {},
   "outputs": [],
   "source": [
    "import numpy as np\n",
    "import cv2\n",
    "import matplotlib.pyplot as plt\n",
    "import pandas as pd\n",
    "import os"
   ]
  },
  {
   "cell_type": "code",
   "execution_count": 25,
   "metadata": {},
   "outputs": [],
   "source": [
    "face_cascade = cv2.CascadeClassifier(\"HaarCascades/haarcascade_frontalface_default.xml\")\n",
    "eye_cascade = cv2.CascadeClassifier(\"HaarCascades/haarcascade_eye.xml\")\n",
    "smile_cascade = cv2.CascadeClassifier(\"HaarCascades/haarcascade_smile.xml\")\n",
    "# Function to detect the eyes and faces of each image(frame) of the video from webcam\n",
    "def detect(gray, frame):\n",
    "    faces = face_cascade.detectMultiScale(gray, 1.3, 5)\n",
    "    for(x, y, w, h) in faces:\n",
    "        cv2.rectangle(frame, (x,y), (x+w, y+h), (255, 0, 0), 2)\n",
    "        roi_gray = gray[y:y+h, x:x+w]\n",
    "        roi_colour = frame[y:y+h, x:x+w]\n",
    "        eyes = eye_cascade.detectMultiScale(roi_gray, 1.1, 21)\n",
    "        for (x_eye, y_eye, w_eye, h_eye) in eyes:\n",
    "            cv2.rectangle(roi_colour, (x_eye,y_eye), (x_eye+w_eye, y_eye+h_eye), (0, 255, 0), 2)\n",
    "        smiles = smile_cascade.detectMultiScale(roi_gray, 1.7, 22)\n",
    "        for (x_s, y_s, w_s, h_s) in smiles:\n",
    "            cv2.rectangle(roi_colour, (x_s,y_s), (x_s+w_s, y_s+h_s), (0, 0, 255), 2)    \n",
    "    return frame     \n",
    "\n",
    "#Detecting the face recognition in webcam\n",
    "video_capture = cv2.VideoCapture(0)\n",
    "while True:\n",
    "    _, frame = video_capture.read()\n",
    "    frame_gray = cv2.cvtColor(frame, cv2.COLOR_BGR2GRAY)\n",
    "    canvas = detect(frame_gray, frame)\n",
    "    cv2.imshow('Video', canvas)\n",
    "#PRESS Q TO EXIT ..................................................................................................\n",
    "    if cv2.waitKey(1) & 0xFF == ord('q'):\n",
    "        break\n",
    "video_capture.release()\n",
    "cv2.destroyAllWindows()"
   ]
  },
  {
   "cell_type": "code",
   "execution_count": null,
   "metadata": {},
   "outputs": [],
   "source": []
  }
 ],
 "metadata": {
  "kernelspec": {
   "display_name": "Python 3",
   "language": "python",
   "name": "python3"
  }
 },
 "nbformat": 4,
 "nbformat_minor": 2
}
